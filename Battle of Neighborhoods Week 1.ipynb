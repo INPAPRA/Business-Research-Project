{
 "cells": [
  {
   "cell_type": "markdown",
   "metadata": {},
   "source": [
    "# Battle of Neighborhoods Week 1"
   ]
  },
  {
   "cell_type": "markdown",
   "metadata": {},
   "source": [
    "## 1 Introduction Section- Description of the problem and the background"
   ]
  },
  {
   "cell_type": "markdown",
   "metadata": {},
   "source": [
    "I am a PhD scholar residing in Kolkata, India. I currently live in Newtown area of Kolkata and I enjoy many amenities and venues in the area, such as various restaurants, cafes, food shops and entertainment. I have shifted to Mumbai, India for working purpose. The key question is: How can I find a convenient and enjoyable place in Navi Mumbai similar to that in Kolkata? In order to make a comparison and evaluation of the rental options in Navi Mumbai, I must set some basis, therefore the apartment in Navi Mumbai must meet the following demands:\n",
    "•\tApartment must be 2 or 3 bedrooms\n",
    "•\tDesired location is near a railway station in the Navi Mumbai area and within 2 km\n",
    "•\tPrice of rent not exceed INR 15,000 per month\n",
    "•\tTop amenities in the selected neighborhood shall be similar to current residence\n",
    "•\tDesirable to have venues such as market, restaurants, and wine stores\n"
   ]
  },
  {
   "cell_type": "markdown",
   "metadata": {},
   "source": [
    "## Business Problem\n"
   ]
  },
  {
   "cell_type": "markdown",
   "metadata": {},
   "source": [
    "The challenge is to find a suitable apartment for rent in Navi Mumbai that complies with the demands on location, price ,venues and so on."
   ]
  },
  {
   "cell_type": "markdown",
   "metadata": {},
   "source": [
    "## Data Section"
   ]
  },
  {
   "cell_type": "markdown",
   "metadata": {},
   "source": [
    "The data will be used as follows:\n",
    "•\tUse Foursquare and geopy data to map top 10 venues for all Navi Mumbai neighborhoods and clustered in groups ( as per Course LAB)\n",
    "•\tUse Foursquare and geopy data to map the location of railway stations , separately and on top of the above clustered map in order to be able to identify the venues and amenities near each railway station\n",
    "•\tUse Foursquare and geopy data to map the location of rental places, in some form, linked to the railway stations.\n",
    "•\tcreate a map that depicts, for instance, the average rental price per square ft, around a radius of 2 km around each railway station - or a similar metrics. I will be able to quickly point to the popups to know the relative price per railway station.\n",
    "•\tAddresses from rental locations will be converted to geodata( lat, long) using Geopy-distance and Nominatim.\n",
    "•\tData will be searched in open data sources if available, from real estate sites if open to reading, libraries or other government agencies.\n"
   ]
  },
  {
   "cell_type": "markdown",
   "metadata": {},
   "source": [
    "The processing of these DATA will allow to answer the key questions to make a decision:\n",
    "•\twhat is the cost of rent (per square ft) around 2 km radius from each railway station?\n",
    "•\twhat is the area of Navi Mumbai with best rental pricing that meets criteria established?\n",
    "•\tWhat is the distance from work place (Vasi, Navi Mumbai) and the tentative future home?\n",
    "•\tWhat are the venues of the two best places to live? How the prices compare?\n",
    "•\tHow venues distribute among Navi Mumbai neighborhoods and around railway stations?\n",
    "•\tAre there tradeoffs between size and price and location?\n",
    "•\tAny other interesting statistical data findings of the real estate and overall data.\n"
   ]
  },
  {
   "cell_type": "markdown",
   "metadata": {},
   "source": [
    "Importing required libraries"
   ]
  },
  {
   "cell_type": "code",
   "execution_count": 25,
   "metadata": {},
   "outputs": [
    {
     "name": "stdout",
     "output_type": "stream",
     "text": [
      "Collecting package metadata (current_repodata.json): ...working... done\n",
      "Solving environment: ...working... done\n",
      "\n",
      "# All requested packages already installed.\n",
      "\n"
     ]
    }
   ],
   "source": [
    "import numpy as np\n",
    "import time\n",
    "import pandas as pd\n",
    "pd.set_option('display.max_columns', None)\n",
    "pd.set_option('display.max_rows', None)\n",
    "\n",
    "import json\n",
    "import requests\n",
    "from pandas.io.json import json_normalize\n",
    "\n",
    "from geopy.geocoders import Nominatim #\n",
    "!conda install -c conda-forge folium=0.5.0 --yes\n",
    "import folium"
   ]
  },
  {
   "cell_type": "code",
   "execution_count": 2,
   "metadata": {},
   "outputs": [
    {
     "name": "stderr",
     "output_type": "stream",
     "text": [
      "C:\\Users\\admin\\Anaconda3\\lib\\site-packages\\ipykernel_launcher.py:4: DeprecationWarning: Using Nominatim with the default \"geopy/1.20.0\" `user_agent` is strongly discouraged, as it violates Nominatim's ToS https://operations.osmfoundation.org/policies/nominatim/ and may possibly cause 403 and 429 HTTP errors. Please specify a custom `user_agent` with `Nominatim(user_agent=\"my-application\")` or by overriding the default `user_agent`: `geopy.geocoders.options.default_user_agent = \"my-application\"`. In geopy 2.0 this will become an exception.\n",
      "  after removing the cwd from sys.path.\n"
     ]
    },
    {
     "ename": "GeocoderTimedOut",
     "evalue": "Service timed out",
     "output_type": "error",
     "traceback": [
      "\u001b[1;31m---------------------------------------------------------------------------\u001b[0m",
      "\u001b[1;31mtimeout\u001b[0m                                   Traceback (most recent call last)",
      "\u001b[1;32m~\\Anaconda3\\lib\\urllib\\request.py\u001b[0m in \u001b[0;36mdo_open\u001b[1;34m(self, http_class, req, **http_conn_args)\u001b[0m\n\u001b[0;32m   1316\u001b[0m                 h.request(req.get_method(), req.selector, req.data, headers,\n\u001b[1;32m-> 1317\u001b[1;33m                           encode_chunked=req.has_header('Transfer-encoding'))\n\u001b[0m\u001b[0;32m   1318\u001b[0m             \u001b[1;32mexcept\u001b[0m \u001b[0mOSError\u001b[0m \u001b[1;32mas\u001b[0m \u001b[0merr\u001b[0m\u001b[1;33m:\u001b[0m \u001b[1;31m# timeout error\u001b[0m\u001b[1;33m\u001b[0m\u001b[1;33m\u001b[0m\u001b[0m\n",
      "\u001b[1;32m~\\Anaconda3\\lib\\http\\client.py\u001b[0m in \u001b[0;36mrequest\u001b[1;34m(self, method, url, body, headers, encode_chunked)\u001b[0m\n\u001b[0;32m   1228\u001b[0m         \u001b[1;34m\"\"\"Send a complete request to the server.\"\"\"\u001b[0m\u001b[1;33m\u001b[0m\u001b[1;33m\u001b[0m\u001b[0m\n\u001b[1;32m-> 1229\u001b[1;33m         \u001b[0mself\u001b[0m\u001b[1;33m.\u001b[0m\u001b[0m_send_request\u001b[0m\u001b[1;33m(\u001b[0m\u001b[0mmethod\u001b[0m\u001b[1;33m,\u001b[0m \u001b[0murl\u001b[0m\u001b[1;33m,\u001b[0m \u001b[0mbody\u001b[0m\u001b[1;33m,\u001b[0m \u001b[0mheaders\u001b[0m\u001b[1;33m,\u001b[0m \u001b[0mencode_chunked\u001b[0m\u001b[1;33m)\u001b[0m\u001b[1;33m\u001b[0m\u001b[1;33m\u001b[0m\u001b[0m\n\u001b[0m\u001b[0;32m   1230\u001b[0m \u001b[1;33m\u001b[0m\u001b[0m\n",
      "\u001b[1;32m~\\Anaconda3\\lib\\http\\client.py\u001b[0m in \u001b[0;36m_send_request\u001b[1;34m(self, method, url, body, headers, encode_chunked)\u001b[0m\n\u001b[0;32m   1274\u001b[0m             \u001b[0mbody\u001b[0m \u001b[1;33m=\u001b[0m \u001b[0m_encode\u001b[0m\u001b[1;33m(\u001b[0m\u001b[0mbody\u001b[0m\u001b[1;33m,\u001b[0m \u001b[1;34m'body'\u001b[0m\u001b[1;33m)\u001b[0m\u001b[1;33m\u001b[0m\u001b[1;33m\u001b[0m\u001b[0m\n\u001b[1;32m-> 1275\u001b[1;33m         \u001b[0mself\u001b[0m\u001b[1;33m.\u001b[0m\u001b[0mendheaders\u001b[0m\u001b[1;33m(\u001b[0m\u001b[0mbody\u001b[0m\u001b[1;33m,\u001b[0m \u001b[0mencode_chunked\u001b[0m\u001b[1;33m=\u001b[0m\u001b[0mencode_chunked\u001b[0m\u001b[1;33m)\u001b[0m\u001b[1;33m\u001b[0m\u001b[1;33m\u001b[0m\u001b[0m\n\u001b[0m\u001b[0;32m   1276\u001b[0m \u001b[1;33m\u001b[0m\u001b[0m\n",
      "\u001b[1;32m~\\Anaconda3\\lib\\http\\client.py\u001b[0m in \u001b[0;36mendheaders\u001b[1;34m(self, message_body, encode_chunked)\u001b[0m\n\u001b[0;32m   1223\u001b[0m             \u001b[1;32mraise\u001b[0m \u001b[0mCannotSendHeader\u001b[0m\u001b[1;33m(\u001b[0m\u001b[1;33m)\u001b[0m\u001b[1;33m\u001b[0m\u001b[1;33m\u001b[0m\u001b[0m\n\u001b[1;32m-> 1224\u001b[1;33m         \u001b[0mself\u001b[0m\u001b[1;33m.\u001b[0m\u001b[0m_send_output\u001b[0m\u001b[1;33m(\u001b[0m\u001b[0mmessage_body\u001b[0m\u001b[1;33m,\u001b[0m \u001b[0mencode_chunked\u001b[0m\u001b[1;33m=\u001b[0m\u001b[0mencode_chunked\u001b[0m\u001b[1;33m)\u001b[0m\u001b[1;33m\u001b[0m\u001b[1;33m\u001b[0m\u001b[0m\n\u001b[0m\u001b[0;32m   1225\u001b[0m \u001b[1;33m\u001b[0m\u001b[0m\n",
      "\u001b[1;32m~\\Anaconda3\\lib\\http\\client.py\u001b[0m in \u001b[0;36m_send_output\u001b[1;34m(self, message_body, encode_chunked)\u001b[0m\n\u001b[0;32m   1015\u001b[0m         \u001b[1;32mdel\u001b[0m \u001b[0mself\u001b[0m\u001b[1;33m.\u001b[0m\u001b[0m_buffer\u001b[0m\u001b[1;33m[\u001b[0m\u001b[1;33m:\u001b[0m\u001b[1;33m]\u001b[0m\u001b[1;33m\u001b[0m\u001b[1;33m\u001b[0m\u001b[0m\n\u001b[1;32m-> 1016\u001b[1;33m         \u001b[0mself\u001b[0m\u001b[1;33m.\u001b[0m\u001b[0msend\u001b[0m\u001b[1;33m(\u001b[0m\u001b[0mmsg\u001b[0m\u001b[1;33m)\u001b[0m\u001b[1;33m\u001b[0m\u001b[1;33m\u001b[0m\u001b[0m\n\u001b[0m\u001b[0;32m   1017\u001b[0m \u001b[1;33m\u001b[0m\u001b[0m\n",
      "\u001b[1;32m~\\Anaconda3\\lib\\http\\client.py\u001b[0m in \u001b[0;36msend\u001b[1;34m(self, data)\u001b[0m\n\u001b[0;32m    955\u001b[0m             \u001b[1;32mif\u001b[0m \u001b[0mself\u001b[0m\u001b[1;33m.\u001b[0m\u001b[0mauto_open\u001b[0m\u001b[1;33m:\u001b[0m\u001b[1;33m\u001b[0m\u001b[1;33m\u001b[0m\u001b[0m\n\u001b[1;32m--> 956\u001b[1;33m                 \u001b[0mself\u001b[0m\u001b[1;33m.\u001b[0m\u001b[0mconnect\u001b[0m\u001b[1;33m(\u001b[0m\u001b[1;33m)\u001b[0m\u001b[1;33m\u001b[0m\u001b[1;33m\u001b[0m\u001b[0m\n\u001b[0m\u001b[0;32m    957\u001b[0m             \u001b[1;32melse\u001b[0m\u001b[1;33m:\u001b[0m\u001b[1;33m\u001b[0m\u001b[1;33m\u001b[0m\u001b[0m\n",
      "\u001b[1;32m~\\Anaconda3\\lib\\http\\client.py\u001b[0m in \u001b[0;36mconnect\u001b[1;34m(self)\u001b[0m\n\u001b[0;32m   1383\u001b[0m \u001b[1;33m\u001b[0m\u001b[0m\n\u001b[1;32m-> 1384\u001b[1;33m             \u001b[0msuper\u001b[0m\u001b[1;33m(\u001b[0m\u001b[1;33m)\u001b[0m\u001b[1;33m.\u001b[0m\u001b[0mconnect\u001b[0m\u001b[1;33m(\u001b[0m\u001b[1;33m)\u001b[0m\u001b[1;33m\u001b[0m\u001b[1;33m\u001b[0m\u001b[0m\n\u001b[0m\u001b[0;32m   1385\u001b[0m \u001b[1;33m\u001b[0m\u001b[0m\n",
      "\u001b[1;32m~\\Anaconda3\\lib\\http\\client.py\u001b[0m in \u001b[0;36mconnect\u001b[1;34m(self)\u001b[0m\n\u001b[0;32m    927\u001b[0m         self.sock = self._create_connection(\n\u001b[1;32m--> 928\u001b[1;33m             (self.host,self.port), self.timeout, self.source_address)\n\u001b[0m\u001b[0;32m    929\u001b[0m         \u001b[0mself\u001b[0m\u001b[1;33m.\u001b[0m\u001b[0msock\u001b[0m\u001b[1;33m.\u001b[0m\u001b[0msetsockopt\u001b[0m\u001b[1;33m(\u001b[0m\u001b[0msocket\u001b[0m\u001b[1;33m.\u001b[0m\u001b[0mIPPROTO_TCP\u001b[0m\u001b[1;33m,\u001b[0m \u001b[0msocket\u001b[0m\u001b[1;33m.\u001b[0m\u001b[0mTCP_NODELAY\u001b[0m\u001b[1;33m,\u001b[0m \u001b[1;36m1\u001b[0m\u001b[1;33m)\u001b[0m\u001b[1;33m\u001b[0m\u001b[1;33m\u001b[0m\u001b[0m\n",
      "\u001b[1;32m~\\Anaconda3\\lib\\socket.py\u001b[0m in \u001b[0;36mcreate_connection\u001b[1;34m(address, timeout, source_address)\u001b[0m\n\u001b[0;32m    726\u001b[0m     \u001b[1;32mif\u001b[0m \u001b[0merr\u001b[0m \u001b[1;32mis\u001b[0m \u001b[1;32mnot\u001b[0m \u001b[1;32mNone\u001b[0m\u001b[1;33m:\u001b[0m\u001b[1;33m\u001b[0m\u001b[1;33m\u001b[0m\u001b[0m\n\u001b[1;32m--> 727\u001b[1;33m         \u001b[1;32mraise\u001b[0m \u001b[0merr\u001b[0m\u001b[1;33m\u001b[0m\u001b[1;33m\u001b[0m\u001b[0m\n\u001b[0m\u001b[0;32m    728\u001b[0m     \u001b[1;32melse\u001b[0m\u001b[1;33m:\u001b[0m\u001b[1;33m\u001b[0m\u001b[1;33m\u001b[0m\u001b[0m\n",
      "\u001b[1;32m~\\Anaconda3\\lib\\socket.py\u001b[0m in \u001b[0;36mcreate_connection\u001b[1;34m(address, timeout, source_address)\u001b[0m\n\u001b[0;32m    715\u001b[0m                 \u001b[0msock\u001b[0m\u001b[1;33m.\u001b[0m\u001b[0mbind\u001b[0m\u001b[1;33m(\u001b[0m\u001b[0msource_address\u001b[0m\u001b[1;33m)\u001b[0m\u001b[1;33m\u001b[0m\u001b[1;33m\u001b[0m\u001b[0m\n\u001b[1;32m--> 716\u001b[1;33m             \u001b[0msock\u001b[0m\u001b[1;33m.\u001b[0m\u001b[0mconnect\u001b[0m\u001b[1;33m(\u001b[0m\u001b[0msa\u001b[0m\u001b[1;33m)\u001b[0m\u001b[1;33m\u001b[0m\u001b[1;33m\u001b[0m\u001b[0m\n\u001b[0m\u001b[0;32m    717\u001b[0m             \u001b[1;31m# Break explicitly a reference cycle\u001b[0m\u001b[1;33m\u001b[0m\u001b[1;33m\u001b[0m\u001b[1;33m\u001b[0m\u001b[0m\n",
      "\u001b[1;31mtimeout\u001b[0m: timed out",
      "\nDuring handling of the above exception, another exception occurred:\n",
      "\u001b[1;31mURLError\u001b[0m                                  Traceback (most recent call last)",
      "\u001b[1;32m~\\Anaconda3\\lib\\site-packages\\geopy\\geocoders\\base.py\u001b[0m in \u001b[0;36m_call_geocoder\u001b[1;34m(self, url, timeout, raw, requester, deserializer, **kwargs)\u001b[0m\n\u001b[0;32m    354\u001b[0m         \u001b[1;32mtry\u001b[0m\u001b[1;33m:\u001b[0m\u001b[1;33m\u001b[0m\u001b[1;33m\u001b[0m\u001b[0m\n\u001b[1;32m--> 355\u001b[1;33m             \u001b[0mpage\u001b[0m \u001b[1;33m=\u001b[0m \u001b[0mrequester\u001b[0m\u001b[1;33m(\u001b[0m\u001b[0mreq\u001b[0m\u001b[1;33m,\u001b[0m \u001b[0mtimeout\u001b[0m\u001b[1;33m=\u001b[0m\u001b[0mtimeout\u001b[0m\u001b[1;33m,\u001b[0m \u001b[1;33m**\u001b[0m\u001b[0mkwargs\u001b[0m\u001b[1;33m)\u001b[0m\u001b[1;33m\u001b[0m\u001b[1;33m\u001b[0m\u001b[0m\n\u001b[0m\u001b[0;32m    356\u001b[0m         \u001b[1;32mexcept\u001b[0m \u001b[0mException\u001b[0m \u001b[1;32mas\u001b[0m \u001b[0merror\u001b[0m\u001b[1;33m:\u001b[0m\u001b[1;33m\u001b[0m\u001b[1;33m\u001b[0m\u001b[0m\n",
      "\u001b[1;32m~\\Anaconda3\\lib\\urllib\\request.py\u001b[0m in \u001b[0;36mopen\u001b[1;34m(self, fullurl, data, timeout)\u001b[0m\n\u001b[0;32m    524\u001b[0m \u001b[1;33m\u001b[0m\u001b[0m\n\u001b[1;32m--> 525\u001b[1;33m         \u001b[0mresponse\u001b[0m \u001b[1;33m=\u001b[0m \u001b[0mself\u001b[0m\u001b[1;33m.\u001b[0m\u001b[0m_open\u001b[0m\u001b[1;33m(\u001b[0m\u001b[0mreq\u001b[0m\u001b[1;33m,\u001b[0m \u001b[0mdata\u001b[0m\u001b[1;33m)\u001b[0m\u001b[1;33m\u001b[0m\u001b[1;33m\u001b[0m\u001b[0m\n\u001b[0m\u001b[0;32m    526\u001b[0m \u001b[1;33m\u001b[0m\u001b[0m\n",
      "\u001b[1;32m~\\Anaconda3\\lib\\urllib\\request.py\u001b[0m in \u001b[0;36m_open\u001b[1;34m(self, req, data)\u001b[0m\n\u001b[0;32m    542\u001b[0m         result = self._call_chain(self.handle_open, protocol, protocol +\n\u001b[1;32m--> 543\u001b[1;33m                                   '_open', req)\n\u001b[0m\u001b[0;32m    544\u001b[0m         \u001b[1;32mif\u001b[0m \u001b[0mresult\u001b[0m\u001b[1;33m:\u001b[0m\u001b[1;33m\u001b[0m\u001b[1;33m\u001b[0m\u001b[0m\n",
      "\u001b[1;32m~\\Anaconda3\\lib\\urllib\\request.py\u001b[0m in \u001b[0;36m_call_chain\u001b[1;34m(self, chain, kind, meth_name, *args)\u001b[0m\n\u001b[0;32m    502\u001b[0m             \u001b[0mfunc\u001b[0m \u001b[1;33m=\u001b[0m \u001b[0mgetattr\u001b[0m\u001b[1;33m(\u001b[0m\u001b[0mhandler\u001b[0m\u001b[1;33m,\u001b[0m \u001b[0mmeth_name\u001b[0m\u001b[1;33m)\u001b[0m\u001b[1;33m\u001b[0m\u001b[1;33m\u001b[0m\u001b[0m\n\u001b[1;32m--> 503\u001b[1;33m             \u001b[0mresult\u001b[0m \u001b[1;33m=\u001b[0m \u001b[0mfunc\u001b[0m\u001b[1;33m(\u001b[0m\u001b[1;33m*\u001b[0m\u001b[0margs\u001b[0m\u001b[1;33m)\u001b[0m\u001b[1;33m\u001b[0m\u001b[1;33m\u001b[0m\u001b[0m\n\u001b[0m\u001b[0;32m    504\u001b[0m             \u001b[1;32mif\u001b[0m \u001b[0mresult\u001b[0m \u001b[1;32mis\u001b[0m \u001b[1;32mnot\u001b[0m \u001b[1;32mNone\u001b[0m\u001b[1;33m:\u001b[0m\u001b[1;33m\u001b[0m\u001b[1;33m\u001b[0m\u001b[0m\n",
      "\u001b[1;32m~\\Anaconda3\\lib\\urllib\\request.py\u001b[0m in \u001b[0;36mhttps_open\u001b[1;34m(self, req)\u001b[0m\n\u001b[0;32m   1359\u001b[0m             return self.do_open(http.client.HTTPSConnection, req,\n\u001b[1;32m-> 1360\u001b[1;33m                 context=self._context, check_hostname=self._check_hostname)\n\u001b[0m\u001b[0;32m   1361\u001b[0m \u001b[1;33m\u001b[0m\u001b[0m\n",
      "\u001b[1;32m~\\Anaconda3\\lib\\urllib\\request.py\u001b[0m in \u001b[0;36mdo_open\u001b[1;34m(self, http_class, req, **http_conn_args)\u001b[0m\n\u001b[0;32m   1318\u001b[0m             \u001b[1;32mexcept\u001b[0m \u001b[0mOSError\u001b[0m \u001b[1;32mas\u001b[0m \u001b[0merr\u001b[0m\u001b[1;33m:\u001b[0m \u001b[1;31m# timeout error\u001b[0m\u001b[1;33m\u001b[0m\u001b[1;33m\u001b[0m\u001b[0m\n\u001b[1;32m-> 1319\u001b[1;33m                 \u001b[1;32mraise\u001b[0m \u001b[0mURLError\u001b[0m\u001b[1;33m(\u001b[0m\u001b[0merr\u001b[0m\u001b[1;33m)\u001b[0m\u001b[1;33m\u001b[0m\u001b[1;33m\u001b[0m\u001b[0m\n\u001b[0m\u001b[0;32m   1320\u001b[0m             \u001b[0mr\u001b[0m \u001b[1;33m=\u001b[0m \u001b[0mh\u001b[0m\u001b[1;33m.\u001b[0m\u001b[0mgetresponse\u001b[0m\u001b[1;33m(\u001b[0m\u001b[1;33m)\u001b[0m\u001b[1;33m\u001b[0m\u001b[1;33m\u001b[0m\u001b[0m\n",
      "\u001b[1;31mURLError\u001b[0m: <urlopen error timed out>",
      "\nDuring handling of the above exception, another exception occurred:\n",
      "\u001b[1;31mGeocoderTimedOut\u001b[0m                          Traceback (most recent call last)",
      "\u001b[1;32m<ipython-input-2-6c43a0975c51>\u001b[0m in \u001b[0;36m<module>\u001b[1;34m\u001b[0m\n\u001b[0;32m      3\u001b[0m \u001b[1;33m\u001b[0m\u001b[0m\n\u001b[0;32m      4\u001b[0m \u001b[0mgeolocator\u001b[0m \u001b[1;33m=\u001b[0m \u001b[0mNominatim\u001b[0m\u001b[1;33m(\u001b[0m\u001b[1;33m)\u001b[0m\u001b[1;33m\u001b[0m\u001b[1;33m\u001b[0m\u001b[0m\n\u001b[1;32m----> 5\u001b[1;33m \u001b[0mlocation\u001b[0m \u001b[1;33m=\u001b[0m \u001b[0mgeolocator\u001b[0m\u001b[1;33m.\u001b[0m\u001b[0mgeocode\u001b[0m\u001b[1;33m(\u001b[0m\u001b[0maddress\u001b[0m\u001b[1;33m)\u001b[0m\u001b[1;33m\u001b[0m\u001b[1;33m\u001b[0m\u001b[0m\n\u001b[0m\u001b[0;32m      6\u001b[0m \u001b[0mlatitude\u001b[0m \u001b[1;33m=\u001b[0m \u001b[0mlocation\u001b[0m\u001b[1;33m.\u001b[0m\u001b[0mlatitude\u001b[0m\u001b[1;33m\u001b[0m\u001b[1;33m\u001b[0m\u001b[0m\n\u001b[0;32m      7\u001b[0m \u001b[0mlongitude\u001b[0m \u001b[1;33m=\u001b[0m \u001b[0mlocation\u001b[0m\u001b[1;33m.\u001b[0m\u001b[0mlongitude\u001b[0m\u001b[1;33m\u001b[0m\u001b[1;33m\u001b[0m\u001b[0m\n",
      "\u001b[1;32m~\\Anaconda3\\lib\\site-packages\\geopy\\geocoders\\osm.py\u001b[0m in \u001b[0;36mgeocode\u001b[1;34m(self, query, exactly_one, timeout, limit, addressdetails, language, geometry, extratags, country_codes, viewbox, bounded)\u001b[0m\n\u001b[0;32m    385\u001b[0m \u001b[1;33m\u001b[0m\u001b[0m\n\u001b[0;32m    386\u001b[0m         return self._parse_json(\n\u001b[1;32m--> 387\u001b[1;33m             \u001b[0mself\u001b[0m\u001b[1;33m.\u001b[0m\u001b[0m_call_geocoder\u001b[0m\u001b[1;33m(\u001b[0m\u001b[0murl\u001b[0m\u001b[1;33m,\u001b[0m \u001b[0mtimeout\u001b[0m\u001b[1;33m=\u001b[0m\u001b[0mtimeout\u001b[0m\u001b[1;33m)\u001b[0m\u001b[1;33m,\u001b[0m \u001b[0mexactly_one\u001b[0m\u001b[1;33m\u001b[0m\u001b[1;33m\u001b[0m\u001b[0m\n\u001b[0m\u001b[0;32m    388\u001b[0m         )\n\u001b[0;32m    389\u001b[0m \u001b[1;33m\u001b[0m\u001b[0m\n",
      "\u001b[1;32m~\\Anaconda3\\lib\\site-packages\\geopy\\geocoders\\base.py\u001b[0m in \u001b[0;36m_call_geocoder\u001b[1;34m(self, url, timeout, raw, requester, deserializer, **kwargs)\u001b[0m\n\u001b[0;32m    376\u001b[0m             \u001b[1;32melif\u001b[0m \u001b[0misinstance\u001b[0m\u001b[1;33m(\u001b[0m\u001b[0merror\u001b[0m\u001b[1;33m,\u001b[0m \u001b[0mURLError\u001b[0m\u001b[1;33m)\u001b[0m\u001b[1;33m:\u001b[0m\u001b[1;33m\u001b[0m\u001b[1;33m\u001b[0m\u001b[0m\n\u001b[0;32m    377\u001b[0m                 \u001b[1;32mif\u001b[0m \u001b[1;34m\"timed out\"\u001b[0m \u001b[1;32min\u001b[0m \u001b[0mmessage\u001b[0m\u001b[1;33m:\u001b[0m\u001b[1;33m\u001b[0m\u001b[1;33m\u001b[0m\u001b[0m\n\u001b[1;32m--> 378\u001b[1;33m                     \u001b[1;32mraise\u001b[0m \u001b[0mGeocoderTimedOut\u001b[0m\u001b[1;33m(\u001b[0m\u001b[1;34m'Service timed out'\u001b[0m\u001b[1;33m)\u001b[0m\u001b[1;33m\u001b[0m\u001b[1;33m\u001b[0m\u001b[0m\n\u001b[0m\u001b[0;32m    379\u001b[0m                 \u001b[1;32melif\u001b[0m \u001b[1;34m\"unreachable\"\u001b[0m \u001b[1;32min\u001b[0m \u001b[0mmessage\u001b[0m\u001b[1;33m:\u001b[0m\u001b[1;33m\u001b[0m\u001b[1;33m\u001b[0m\u001b[0m\n\u001b[0;32m    380\u001b[0m                     \u001b[1;32mraise\u001b[0m \u001b[0mGeocoderUnavailable\u001b[0m\u001b[1;33m(\u001b[0m\u001b[1;34m'Service not available'\u001b[0m\u001b[1;33m)\u001b[0m\u001b[1;33m\u001b[0m\u001b[1;33m\u001b[0m\u001b[0m\n",
      "\u001b[1;31mGeocoderTimedOut\u001b[0m: Service timed out"
     ]
    }
   ],
   "source": [
    "# New Town, Kolkata\n",
    "address = 'New Town, Kolkata'\n",
    "\n",
    "geolocator = Nominatim()\n",
    "location = geolocator.geocode(address)\n",
    "latitude = location.latitude\n",
    "longitude = location.longitude\n",
    "print('The geograpical coordinate of New Town Kolkata are {}, {}.'.format(latitude, longitude))"
   ]
  },
  {
   "cell_type": "code",
   "execution_count": 48,
   "metadata": {},
   "outputs": [],
   "source": [
    "neighborhood_latitude=22.5724\n",
    "neighborhood_longitude=88.4798"
   ]
  },
  {
   "cell_type": "code",
   "execution_count": 49,
   "metadata": {},
   "outputs": [],
   "source": [
    "CLIENT_ID = 'VGVN1IKTDQGYGE4CJQ1OFGMNA44HJ54QI4OWT5WGSRGNKAG1'\n",
    "CLIENT_SECRET = 'ZHVB0VEIGTDLW2FZJGVQRDU33BBBRWSYUP0VIBZ2BLROLTEF'\n",
    "VERSION = '20191001'"
   ]
  },
  {
   "cell_type": "code",
   "execution_count": 50,
   "metadata": {},
   "outputs": [
    {
     "data": {
      "text/plain": [
       "'https://api.foursquare.com/v2/venues/explore?&client_id=VGVN1IKTDQGYGE4CJQ1OFGMNA44HJ54QI4OWT5WGSRGNKAG1&client_secret=ZHVB0VEIGTDLW2FZJGVQRDU33BBBRWSYUP0VIBZ2BLROLTEF&v=20191001&ll=22.5724,88.4798&radius=500&limit=100'"
      ]
     },
     "execution_count": 50,
     "metadata": {},
     "output_type": "execute_result"
    }
   ],
   "source": [
    "LIMIT = 100 # limit of number of venues returned by Foursquare API\n",
    "radius = 500 # define radius\n",
    "# create URL\n",
    "url = 'https://api.foursquare.com/v2/venues/explore?&client_id={}&client_secret={}&v={}&ll={},{}&radius={}&limit={}'.format(\n",
    "    CLIENT_ID, \n",
    "    CLIENT_SECRET, \n",
    "    VERSION, \n",
    "    neighborhood_latitude, \n",
    "    neighborhood_longitude, \n",
    "    radius, \n",
    "    LIMIT)\n",
    "url # display URL"
   ]
  },
  {
   "cell_type": "code",
   "execution_count": 51,
   "metadata": {},
   "outputs": [
    {
     "data": {
      "text/plain": [
       "{'meta': {'code': 200, 'requestId': '5da22adc531593002c653044'},\n",
       " 'response': {'headerLocation': 'Current map view',\n",
       "  'headerFullLocation': 'Current map view',\n",
       "  'headerLocationGranularity': 'unknown',\n",
       "  'totalResults': 5,\n",
       "  'suggestedBounds': {'ne': {'lat': 22.576900004500004,\n",
       "    'lng': 88.48466422534415},\n",
       "   'sw': {'lat': 22.567899995499992, 'lng': 88.47493577465585}},\n",
       "  'groups': [{'type': 'Recommended Places',\n",
       "    'name': 'recommended',\n",
       "    'items': [{'reasons': {'count': 0,\n",
       "       'items': [{'summary': 'This spot is popular',\n",
       "         'type': 'general',\n",
       "         'reasonName': 'globalInteractionReason'}]},\n",
       "      'venue': {'id': '50a9f08de4b02dc98e167a6b',\n",
       "       'name': 'Flavours',\n",
       "       'location': {'address': 'Unitech Infospace',\n",
       "        'lat': 22.575677201583147,\n",
       "        'lng': 88.48236322402954,\n",
       "        'labeledLatLngs': [{'label': 'display',\n",
       "          'lat': 22.575677201583147,\n",
       "          'lng': 88.48236322402954}],\n",
       "        'distance': 450,\n",
       "        'postalCode': '700156',\n",
       "        'cc': 'IN',\n",
       "        'city': 'Kolkata',\n",
       "        'state': 'West Bengal',\n",
       "        'country': 'India',\n",
       "        'formattedAddress': ['Unitech Infospace',\n",
       "         'Kolkata 700156',\n",
       "         'West Bengal',\n",
       "         'India']},\n",
       "       'categories': [{'id': '4bf58dd8d48988d10f941735',\n",
       "         'name': 'Indian Restaurant',\n",
       "         'pluralName': 'Indian Restaurants',\n",
       "         'shortName': 'Indian',\n",
       "         'icon': {'prefix': 'https://ss3.4sqi.net/img/categories_v2/food/indian_',\n",
       "          'suffix': '.png'},\n",
       "         'primary': True}],\n",
       "       'photos': {'count': 0, 'groups': []}},\n",
       "      'referralId': 'e-0-50a9f08de4b02dc98e167a6b-0'},\n",
       "     {'reasons': {'count': 0,\n",
       "       'items': [{'summary': 'This spot is popular',\n",
       "         'type': 'general',\n",
       "         'reasonName': 'globalInteractionReason'}]},\n",
       "      'venue': {'id': '5ccc641ff427de002c5d65ed',\n",
       "       'name': 'Archies',\n",
       "       'location': {'address': 'Shop No M005,  City Centre Rajarhat',\n",
       "        'crossStreet': 'Newtown',\n",
       "        'lat': 22.5743068,\n",
       "        'lng': 88.4793885,\n",
       "        'labeledLatLngs': [{'label': 'display',\n",
       "          'lat': 22.5743068,\n",
       "          'lng': 88.4793885}],\n",
       "        'distance': 216,\n",
       "        'postalCode': '700136',\n",
       "        'cc': 'IN',\n",
       "        'city': 'Kolkata',\n",
       "        'state': 'West Bengal',\n",
       "        'country': 'India',\n",
       "        'formattedAddress': ['Shop No M005,  City Centre Rajarhat (Newtown)',\n",
       "         'Kolkata 700136',\n",
       "         'West Bengal',\n",
       "         'India']},\n",
       "       'categories': [{'id': '4bf58dd8d48988d128951735',\n",
       "         'name': 'Gift Shop',\n",
       "         'pluralName': 'Gift Shops',\n",
       "         'shortName': 'Gift Shop',\n",
       "         'icon': {'prefix': 'https://ss3.4sqi.net/img/categories_v2/shops/giftshop_',\n",
       "          'suffix': '.png'},\n",
       "         'primary': True}],\n",
       "       'photos': {'count': 0, 'groups': []}},\n",
       "      'referralId': 'e-0-5ccc641ff427de002c5d65ed-1'},\n",
       "     {'reasons': {'count': 0,\n",
       "       'items': [{'summary': 'This spot is popular',\n",
       "         'type': 'general',\n",
       "         'reasonName': 'globalInteractionReason'}]},\n",
       "      'venue': {'id': '4d2d32e4679e6dcba43aad95',\n",
       "       'name': 'Tata Consultancy Services',\n",
       "       'location': {'address': 'Unitech Infospace',\n",
       "        'lat': 22.57562960450036,\n",
       "        'lng': 88.48210427687451,\n",
       "        'labeledLatLngs': [{'label': 'display',\n",
       "          'lat': 22.57562960450036,\n",
       "          'lng': 88.48210427687451}],\n",
       "        'distance': 430,\n",
       "        'postalCode': '700156',\n",
       "        'cc': 'IN',\n",
       "        'city': 'Kolkata',\n",
       "        'state': 'West Bengal',\n",
       "        'country': 'India',\n",
       "        'formattedAddress': ['Unitech Infospace',\n",
       "         'Kolkata 700156',\n",
       "         'West Bengal',\n",
       "         'India']},\n",
       "       'categories': [{'id': '52f2ab2ebcbc57f1066b8b36',\n",
       "         'name': 'IT Services',\n",
       "         'pluralName': 'IT Services',\n",
       "         'shortName': 'IT Services',\n",
       "         'icon': {'prefix': 'https://ss3.4sqi.net/img/categories_v2/shops/technology_',\n",
       "          'suffix': '.png'},\n",
       "         'primary': True}],\n",
       "       'photos': {'count': 0, 'groups': []}},\n",
       "      'referralId': 'e-0-4d2d32e4679e6dcba43aad95-2'},\n",
       "     {'reasons': {'count': 0,\n",
       "       'items': [{'summary': 'This spot is popular',\n",
       "         'type': 'general',\n",
       "         'reasonName': 'globalInteractionReason'}]},\n",
       "      'venue': {'id': '4ef0324961afc4dca722823b',\n",
       "       'name': 'Cognizant Technology Solutions',\n",
       "       'location': {'address': 'Unitech Infospace',\n",
       "        'lat': 22.575617761247575,\n",
       "        'lng': 88.48234176635742,\n",
       "        'labeledLatLngs': [{'label': 'display',\n",
       "          'lat': 22.575617761247575,\n",
       "          'lng': 88.48234176635742}],\n",
       "        'distance': 443,\n",
       "        'postalCode': '700156',\n",
       "        'cc': 'IN',\n",
       "        'city': 'Kolkata',\n",
       "        'state': 'West Bengal',\n",
       "        'country': 'India',\n",
       "        'formattedAddress': ['Unitech Infospace',\n",
       "         'Kolkata 700156',\n",
       "         'West Bengal',\n",
       "         'India']},\n",
       "       'categories': [{'id': '52f2ab2ebcbc57f1066b8b36',\n",
       "         'name': 'IT Services',\n",
       "         'pluralName': 'IT Services',\n",
       "         'shortName': 'IT Services',\n",
       "         'icon': {'prefix': 'https://ss3.4sqi.net/img/categories_v2/shops/technology_',\n",
       "          'suffix': '.png'},\n",
       "         'primary': True}],\n",
       "       'photos': {'count': 0, 'groups': []}},\n",
       "      'referralId': 'e-0-4ef0324961afc4dca722823b-3'},\n",
       "     {'reasons': {'count': 0,\n",
       "       'items': [{'summary': 'This spot is popular',\n",
       "         'type': 'general',\n",
       "         'reasonName': 'globalInteractionReason'}]},\n",
       "      'venue': {'id': '502c8532e4b06ef10c7619bb',\n",
       "       'name': 'Accenture',\n",
       "       'location': {'address': 'Unitech Infospace',\n",
       "        'lat': 22.5747825,\n",
       "        'lng': 88.4832572,\n",
       "        'labeledLatLngs': [{'label': 'display',\n",
       "          'lat': 22.5747825,\n",
       "          'lng': 88.4832572}],\n",
       "        'distance': 443,\n",
       "        'postalCode': '700156',\n",
       "        'cc': 'IN',\n",
       "        'city': 'Kolkata',\n",
       "        'state': 'West Bengal',\n",
       "        'country': 'India',\n",
       "        'formattedAddress': ['Unitech Infospace',\n",
       "         'Kolkata 700156',\n",
       "         'West Bengal',\n",
       "         'India']},\n",
       "       'categories': [{'id': '5453de49498eade8af355881',\n",
       "         'name': 'Business Service',\n",
       "         'pluralName': 'Business Services',\n",
       "         'shortName': 'Business Services',\n",
       "         'icon': {'prefix': 'https://ss3.4sqi.net/img/categories_v2/building/default_',\n",
       "          'suffix': '.png'},\n",
       "         'primary': True}],\n",
       "       'photos': {'count': 0, 'groups': []}},\n",
       "      'referralId': 'e-0-502c8532e4b06ef10c7619bb-4'}]}]}}"
      ]
     },
     "execution_count": 51,
     "metadata": {},
     "output_type": "execute_result"
    }
   ],
   "source": [
    "results = requests.get(url).json()\n",
    "results"
   ]
  },
  {
   "cell_type": "code",
   "execution_count": 52,
   "metadata": {},
   "outputs": [],
   "source": [
    "# function that extracts the category of the venue\n",
    "def get_category_type(row):\n",
    "    try:\n",
    "        categories_list = row['categories']\n",
    "    except:\n",
    "        categories_list = row['venue.categories']\n",
    "        \n",
    "    if len(categories_list) == 0:\n",
    "        return None\n",
    "    else:\n",
    "        return categories_list[0]['name']"
   ]
  },
  {
   "cell_type": "code",
   "execution_count": 59,
   "metadata": {},
   "outputs": [
    {
     "data": {
      "text/html": [
       "<div>\n",
       "<style scoped>\n",
       "    .dataframe tbody tr th:only-of-type {\n",
       "        vertical-align: middle;\n",
       "    }\n",
       "\n",
       "    .dataframe tbody tr th {\n",
       "        vertical-align: top;\n",
       "    }\n",
       "\n",
       "    .dataframe thead th {\n",
       "        text-align: right;\n",
       "    }\n",
       "</style>\n",
       "<table border=\"1\" class=\"dataframe\">\n",
       "  <thead>\n",
       "    <tr style=\"text-align: right;\">\n",
       "      <th></th>\n",
       "      <th>name</th>\n",
       "      <th>categories</th>\n",
       "      <th>lat</th>\n",
       "      <th>lng</th>\n",
       "    </tr>\n",
       "  </thead>\n",
       "  <tbody>\n",
       "    <tr>\n",
       "      <th>0</th>\n",
       "      <td>Flavours</td>\n",
       "      <td>Indian Restaurant</td>\n",
       "      <td>22.575677</td>\n",
       "      <td>88.482363</td>\n",
       "    </tr>\n",
       "    <tr>\n",
       "      <th>1</th>\n",
       "      <td>Archies</td>\n",
       "      <td>Gift Shop</td>\n",
       "      <td>22.574307</td>\n",
       "      <td>88.479388</td>\n",
       "    </tr>\n",
       "    <tr>\n",
       "      <th>2</th>\n",
       "      <td>Tata Consultancy Services</td>\n",
       "      <td>IT Services</td>\n",
       "      <td>22.575630</td>\n",
       "      <td>88.482104</td>\n",
       "    </tr>\n",
       "    <tr>\n",
       "      <th>3</th>\n",
       "      <td>Cognizant Technology Solutions</td>\n",
       "      <td>IT Services</td>\n",
       "      <td>22.575618</td>\n",
       "      <td>88.482342</td>\n",
       "    </tr>\n",
       "    <tr>\n",
       "      <th>4</th>\n",
       "      <td>Accenture</td>\n",
       "      <td>Business Service</td>\n",
       "      <td>22.574783</td>\n",
       "      <td>88.483257</td>\n",
       "    </tr>\n",
       "  </tbody>\n",
       "</table>\n",
       "</div>"
      ],
      "text/plain": [
       "                             name         categories        lat        lng\n",
       "0                        Flavours  Indian Restaurant  22.575677  88.482363\n",
       "1                         Archies          Gift Shop  22.574307  88.479388\n",
       "2       Tata Consultancy Services        IT Services  22.575630  88.482104\n",
       "3  Cognizant Technology Solutions        IT Services  22.575618  88.482342\n",
       "4                       Accenture   Business Service  22.574783  88.483257"
      ]
     },
     "execution_count": 59,
     "metadata": {},
     "output_type": "execute_result"
    }
   ],
   "source": [
    "venues = results['response']['groups'][0]['items']\n",
    "NewTown_Kolkata_venues = json_normalize(venues)\n",
    "\n",
    "# filter columns\n",
    "filtered_columns = ['venue.name', 'venue.categories', 'venue.location.lat', 'venue.location.lng']\n",
    "NewTown_Kolkata_venues =NewTown_Kolkata_venues.loc[:, filtered_columns]\n",
    "\n",
    "# filter the category for each row\n",
    "NewTown_Kolkata_venues['venue.categories'] = NewTown_Kolkata_venues.apply(get_category_type, axis=1)\n",
    "\n",
    "# clean columns\n",
    "NewTown_Kolkata_venues.columns = [col.split(\".\")[-1] for col in SGnearby_venues.columns]\n",
    "\n",
    "NewTown_Kolkata_venues.head(5)"
   ]
  },
  {
   "cell_type": "code",
   "execution_count": null,
   "metadata": {},
   "outputs": [],
   "source": []
  }
 ],
 "metadata": {
  "kernelspec": {
   "display_name": "Python 3",
   "language": "python",
   "name": "python3"
  },
  "language_info": {
   "codemirror_mode": {
    "name": "ipython",
    "version": 3
   },
   "file_extension": ".py",
   "mimetype": "text/x-python",
   "name": "python",
   "nbconvert_exporter": "python",
   "pygments_lexer": "ipython3",
   "version": "3.7.3"
  }
 },
 "nbformat": 4,
 "nbformat_minor": 2
}
